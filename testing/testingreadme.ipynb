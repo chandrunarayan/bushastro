{
  "cells": [
    {
      "cell_type": "markdown",
      "source": [
        "## testingreadme.ipynb inside testing folder\n",
        "### Jupiter via thebushtelescope\n",
        "![apic](apic.png)"
      ],
      "metadata": {
        "nteract": {
          "transient": {
            "deleting": false
          }
        }
      }
    }
  ],
  "metadata": {
    "kernel_info": {
      "name": "node_nteract"
    },
    "language_info": {
      "name": "javascript",
      "version": "12.8.1",
      "mimetype": "application/javascript",
      "file_extension": ".js"
    },
    "kernelspec": {
      "argv": [
        "/Applications/nteract.app/Contents/MacOS/nteract",
        "/Applications/nteract.app/Contents/Resources/app.asar/node_modules/ijavascript/lib/kernel.js",
        "{connection_file}",
        "--protocol=5.0",
        "--hide-undefined"
      ],
      "display_name": "Node.js (nteract)",
      "env": {
        "ELECTRON_RUN_AS_NODE": "1",
        "NODE_PATH": "/Applications/nteract.app/Contents/Resources/app.asar/node_modules"
      },
      "language": "javascript",
      "name": "node_nteract"
    },
    "nteract": {
      "version": "0.28.0"
    }
  },
  "nbformat": 4,
  "nbformat_minor": 0
}