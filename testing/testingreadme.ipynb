## testingreadme.ipynb inside testing folder
### Jupiter via thebushtelescope
![apic](apic.png)
